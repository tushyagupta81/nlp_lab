{
 "cells": [
  {
   "cell_type": "markdown",
   "id": "ce43c66a",
   "metadata": {},
   "source": [
    "# CBOW\n",
    "Continous Bag Of Words(CBOW) is a word embedding technique under the Word2Vec method\\\n",
    "Here we use a shallow neural netword to create our word embeddings\\\n",
    "We feed in the surrounding words to the NN to predict the target word."
   ]
  },
  {
   "cell_type": "code",
   "execution_count": 1,
   "id": "9070b879",
   "metadata": {},
   "outputs": [],
   "source": [
    "import torch\n",
    "import torch.nn as nn\n",
    "import torch.optim as optim"
   ]
  },
  {
   "cell_type": "code",
   "execution_count": null,
   "id": "9f3bba22",
   "metadata": {},
   "outputs": [],
   "source": [
    "class CBOW(nn.Module):\n",
    "    def __init__(self, vocab_size, embedding_size):\n",
    "        super(CBOW, self).__init__()\n",
    "\n",
    "        self.embeddings = nn.Embedding(vocab_size, embedding_size)\n",
    "        self.linear = nn.Linear(embedding_size, vocab_size)\n",
    "\n",
    "    def forward(self, context):\n",
    "        context_embedding = self.embeddings(context.unsqueeze(0)).sum(dim=1)\n",
    "        res = self.linear(context_embedding)\n",
    "        return res"
   ]
  },
  {
   "cell_type": "code",
   "execution_count": 14,
   "id": "5233eed7",
   "metadata": {},
   "outputs": [],
   "source": [
    "window_size = 2\n",
    "doc = [\n",
    "    \"i am henry\",\n",
    "    \"i like college\",\n",
    "    \"do henry like college\",\n",
    "    \"i am do i like college\",\n",
    "    \"i do like henry\",\n",
    "    \"do i like henry\",\n",
    "]\n",
    "raw_text = \" \".join(doc)\n",
    "tokens = raw_text.split()\n",
    "vocab = set(tokens)\n",
    "vocab_size = len(vocab)"
   ]
  },
  {
   "cell_type": "code",
   "execution_count": null,
   "id": "0380535c",
   "metadata": {},
   "outputs": [
    {
     "name": "stdout",
     "output_type": "stream",
     "text": [
      "[(tensor([1, 0, 1, 3]), tensor(2)), (tensor([0, 2, 3, 5]), tensor(1)), (tensor([2, 1, 5, 4]), tensor(3)), (tensor([1, 3, 4, 2]), tensor(5)), (tensor([3, 5, 2, 3]), tensor(4)), (tensor([5, 4, 3, 5]), tensor(2)), (tensor([4, 2, 5, 1]), tensor(3)), (tensor([2, 3, 1, 0]), tensor(5)), (tensor([3, 5, 0, 4]), tensor(1)), (tensor([5, 1, 4, 1]), tensor(0)), (tensor([1, 0, 1, 3]), tensor(4)), (tensor([0, 4, 3, 5]), tensor(1)), (tensor([4, 1, 5, 1]), tensor(3)), (tensor([1, 3, 1, 4]), tensor(5)), (tensor([3, 5, 4, 3]), tensor(1)), (tensor([5, 1, 3, 2]), tensor(4)), (tensor([1, 4, 2, 4]), tensor(3)), (tensor([4, 3, 4, 1]), tensor(2)), (tensor([3, 2, 1, 3]), tensor(4)), (tensor([2, 4, 3, 2]), tensor(1))]\n"
     ]
    }
   ],
   "source": [
    "data = []\n",
    "word_index = {word: i for i, word in enumerate(vocab)}\n",
    "\n",
    "for i in range(2, len(tokens) - 2):\n",
    "    context = [\n",
    "        word_index[word]\n",
    "        for word in tokens[i - window_size : i] + tokens[i + 1 : i + window_size + 1]\n",
    "    ]\n",
    "    target_word = word_index[tokens[i]]\n",
    "    data.append((torch.tensor(context), torch.tensor(target_word)))\n",
    "\n",
    "print(data)"
   ]
  },
  {
   "cell_type": "code",
   "execution_count": 16,
   "id": "11dca4be",
   "metadata": {},
   "outputs": [],
   "source": [
    "embed_size = 10\n",
    "learning_rate = 0.01\n",
    "epochs = 1000\n",
    "\n",
    "model = CBOW(vocab_size, embed_size)\n",
    "lossfn = nn.CrossEntropyLoss()\n",
    "optimizer = optim.SGD(model.parameters(), lr=learning_rate)"
   ]
  },
  {
   "cell_type": "code",
   "execution_count": null,
   "id": "ca0edd33",
   "metadata": {},
   "outputs": [
    {
     "name": "stdout",
     "output_type": "stream",
     "text": [
      "0 43.41829997301102\n",
      "50 10.840636879205704\n",
      "100 7.696862827986479\n",
      "150 6.366553973406553\n",
      "200 5.675506556406617\n",
      "250 5.270045618060976\n",
      "300 5.008826375938952\n",
      "350 4.827488952549174\n",
      "400 4.693799571483396\n",
      "450 4.590332630323246\n",
      "500 4.507075492525473\n",
      "550 4.437947267317213\n",
      "600 4.379104012215976\n",
      "650 4.327999471192015\n",
      "700 4.28289133211365\n",
      "750 4.242555095930584\n",
      "800 4.20609219041944\n",
      "850 4.1728397329716245\n",
      "900 4.142292355696554\n",
      "950 4.11404877804307\n"
     ]
    }
   ],
   "source": [
    "for epoch in range(epochs):\n",
    "    total_loss = 0\n",
    "    for context, target in data:\n",
    "        optimizer.zero_grad()\n",
    "        output = model(context)\n",
    "        loss = lossfn(output, target.unsqueeze(0))\n",
    "        loss.backward()\n",
    "        optimizer.step()\n",
    "        total_loss += loss.item()\n",
    "    if epoch % 50 == 0:\n",
    "        print(epoch, total_loss)"
   ]
  },
  {
   "cell_type": "code",
   "execution_count": 18,
   "id": "beff3110",
   "metadata": {},
   "outputs": [
    {
     "name": "stdout",
     "output_type": "stream",
     "text": [
      "Embedding for 'henry': [[-0.8072041   0.8175361  -0.68911165 -0.32924142 -0.23396243  0.68101513\n",
      "  -2.9420059  -0.21836732  0.3715383  -0.33744484]]\n"
     ]
    }
   ],
   "source": [
    "word_to_lookup = \"henry\"\n",
    "wi = word_index[word_to_lookup]\n",
    "embedding = model.embeddings(torch.tensor([wi]))\n",
    "print(f\"Embedding for '{word_to_lookup}': {embedding.detach().numpy()}\")"
   ]
  }
 ],
 "metadata": {
  "kernelspec": {
   "display_name": "nlp",
   "language": "python",
   "name": "python3"
  },
  "language_info": {
   "codemirror_mode": {
    "name": "ipython",
    "version": 3
   },
   "file_extension": ".py",
   "mimetype": "text/x-python",
   "name": "python",
   "nbconvert_exporter": "python",
   "pygments_lexer": "ipython3",
   "version": "3.10.18"
  }
 },
 "nbformat": 4,
 "nbformat_minor": 5
}
