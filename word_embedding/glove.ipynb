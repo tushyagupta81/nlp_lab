{
 "cells": [
  {
   "cell_type": "markdown",
   "id": "769c531a",
   "metadata": {},
   "source": [
    "# GloVe\n",
    "Global Vectors for Word Representation(GloVe) is a word embedding technique that generates vector representations of words based on co-occurrence matrix. \\\n",
    "Words that occur together in the cooccurence matrix are closer in the vector space and words that dont occour together get pushed away from each other"
   ]
  },
  {
   "cell_type": "code",
   "execution_count": 1,
   "id": "a308b702",
   "metadata": {},
   "outputs": [
    {
     "name": "stdout",
     "output_type": "stream",
     "text": [
      "50\n",
      "[ 0.27137   0.61347  -0.52498  -0.7617    0.37252   0.21401  -1.0817\n",
      "  0.16501  -0.45105  -0.77013  -0.55703   1.7441   -0.70152  -1.6522\n",
      "  0.047489 -0.16412   0.10451  -0.86788  -0.71332  -0.12108   0.12376\n",
      " -0.14268  -0.18158  -0.83291   0.21332  -1.6042    0.22437  -1.0787\n",
      " -0.53084   0.44731   1.207    -0.94696  -0.082957 -0.39328   0.70247\n",
      " -0.22002  -0.040118  0.79309   0.19654  -0.25612   0.82113   0.8323\n",
      " -0.63336  -0.32116   0.21277   0.47812  -0.41281  -1.7192   -0.26018\n",
      "  0.57005 ]\n"
     ]
    }
   ],
   "source": [
    "from gensim.downloader import load\n",
    "\n",
    "glove_model = load(\"glove-wiki-gigaword-50\")\n",
    "embeddings = glove_model.get_vector(\"henry\")\n",
    "print(len(embeddings))\n",
    "print(embeddings)"
   ]
  }
 ],
 "metadata": {
  "kernelspec": {
   "display_name": "nlp",
   "language": "python",
   "name": "python3"
  },
  "language_info": {
   "codemirror_mode": {
    "name": "ipython",
    "version": 3
   },
   "file_extension": ".py",
   "mimetype": "text/x-python",
   "name": "python",
   "nbconvert_exporter": "python",
   "pygments_lexer": "ipython3",
   "version": "3.10.18"
  }
 },
 "nbformat": 4,
 "nbformat_minor": 5
}
