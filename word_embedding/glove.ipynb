{
 "cells": [
  {
   "cell_type": "code",
   "execution_count": null,
   "id": "a308b702",
   "metadata": {},
   "outputs": [],
   "source": [
    "from gensim.models import KeyedVectors\n",
    "from gensim.downloader import load\n",
    "\n",
    "glove_model = load(\"glove-wiki-gigaword-50\")"
   ]
  },
  {
   "cell_type": "code",
   "execution_count": 5,
   "id": "391ead17",
   "metadata": {},
   "outputs": [
    {
     "data": {
      "text/plain": [
       "array([ 0.27137 ,  0.61347 , -0.52498 , -0.7617  ,  0.37252 ,  0.21401 ,\n",
       "       -1.0817  ,  0.16501 , -0.45105 , -0.77013 , -0.55703 ,  1.7441  ,\n",
       "       -0.70152 , -1.6522  ,  0.047489, -0.16412 ,  0.10451 , -0.86788 ,\n",
       "       -0.71332 , -0.12108 ,  0.12376 , -0.14268 , -0.18158 , -0.83291 ,\n",
       "        0.21332 , -1.6042  ,  0.22437 , -1.0787  , -0.53084 ,  0.44731 ,\n",
       "        1.207   , -0.94696 , -0.082957, -0.39328 ,  0.70247 , -0.22002 ,\n",
       "       -0.040118,  0.79309 ,  0.19654 , -0.25612 ,  0.82113 ,  0.8323  ,\n",
       "       -0.63336 , -0.32116 ,  0.21277 ,  0.47812 , -0.41281 , -1.7192  ,\n",
       "       -0.26018 ,  0.57005 ], dtype=float32)"
      ]
     },
     "execution_count": 5,
     "metadata": {},
     "output_type": "execute_result"
    }
   ],
   "source": [
    "glove_model.get_vector(\"henry\")"
   ]
  }
 ],
 "metadata": {
  "kernelspec": {
   "display_name": "nlp",
   "language": "python",
   "name": "python3"
  },
  "language_info": {
   "codemirror_mode": {
    "name": "ipython",
    "version": 3
   },
   "file_extension": ".py",
   "mimetype": "text/x-python",
   "name": "python",
   "nbconvert_exporter": "python",
   "pygments_lexer": "ipython3",
   "version": "3.10.18"
  }
 },
 "nbformat": 4,
 "nbformat_minor": 5
}
