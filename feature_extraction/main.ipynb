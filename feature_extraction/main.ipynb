{
 "cells": [
  {
   "cell_type": "markdown",
   "id": "fa533810",
   "metadata": {},
   "source": [
    "# Write a program to extract features – TF, TF-IDF score from text"
   ]
  },
  {
   "cell_type": "code",
   "execution_count": null,
   "id": "87f43149",
   "metadata": {},
   "outputs": [],
   "source": [
    "from sklearn.feature_extraction.text import TfidfVectorizer"
   ]
  },
  {
   "cell_type": "code",
   "execution_count": 18,
   "id": "ee0bb164",
   "metadata": {},
   "outputs": [],
   "source": [
    "documents = [\n",
    "    \"i am henry.\",\n",
    "    \"i like college.\",\n",
    "    \"do henry like college?\",\n",
    "    \"i am do i like college?\",\n",
    "    \"i do like henry.\",\n",
    "    \"do i like henry?\",\n",
    "]"
   ]
  },
  {
   "cell_type": "code",
   "execution_count": null,
   "id": "348787e3",
   "metadata": {},
   "outputs": [
    {
     "name": "stdout",
     "output_type": "stream",
     "text": [
      "Document 1:\n",
      "am: 0.8101975203608325\n",
      "henry: 0.5861569567966913\n",
      "\n",
      "\n",
      "Document 2:\n",
      "like: 0.5948546604855911\n",
      "college: 0.8038332743166161\n",
      "\n",
      "\n",
      "Document 3:\n",
      "henry: 0.49340910033240876\n",
      "like: 0.4260982255952437\n",
      "college: 0.5757909530054383\n",
      "do: 0.49340910033240876\n",
      "\n",
      "\n",
      "Document 4:\n",
      "am: 0.6170310457438672\n",
      "like: 0.3855072948390351\n",
      "college: 0.5209400071446677\n",
      "do: 0.4464060070946989\n",
      "\n",
      "\n",
      "Document 5:\n",
      "henry: 0.6034869604104566\n",
      "like: 0.5211592628257661\n",
      "do: 0.6034869604104566\n",
      "\n",
      "\n",
      "Document 6:\n",
      "henry: 0.6034869604104566\n",
      "like: 0.5211592628257661\n",
      "do: 0.6034869604104566\n",
      "\n",
      "\n"
     ]
    }
   ],
   "source": [
    "vectorizer = TfidfVectorizer()\n",
    "tfidf_matrix = vectorizer.fit_transform(documents)\n",
    "feature_names = vectorizer.get_feature_names_out()\n",
    "tfidf_values = {}\n",
    "\n",
    "for doc_index, doc in enumerate(documents):\n",
    "    feature_index = tfidf_matrix[doc_index, :].nonzero()[1]\n",
    "    tfidf_doc_values = zip(\n",
    "        feature_index, [tfidf_matrix[doc_index, x] for x in feature_index]\n",
    "    )\n",
    "    tfidf_values[doc_index] = {feature_names[i]: value for i, value in tfidf_doc_values}\n",
    "\n",
    "for doc_index, values in tfidf_values.items():\n",
    "    print(f\"Document {doc_index + 1}:\")\n",
    "    for word, tfidf_value in values.items():\n",
    "        print(f\"{word}: {tfidf_value}\")\n",
    "    print(\"\\n\")"
   ]
  }
 ],
 "metadata": {
  "kernelspec": {
   "display_name": "nlp",
   "language": "python",
   "name": "python3"
  },
  "language_info": {
   "codemirror_mode": {
    "name": "ipython",
    "version": 3
   },
   "file_extension": ".py",
   "mimetype": "text/x-python",
   "name": "python",
   "nbconvert_exporter": "python",
   "pygments_lexer": "ipython3",
   "version": "3.10.18"
  }
 },
 "nbformat": 4,
 "nbformat_minor": 5
}
