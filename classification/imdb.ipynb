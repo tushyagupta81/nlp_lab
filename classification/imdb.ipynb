{
 "cells": [
  {
   "cell_type": "code",
   "execution_count": 1,
   "id": "10fc00fd",
   "metadata": {},
   "outputs": [],
   "source": [
    "from sklearn.model_selection import train_test_split\n",
    "from sklearn.naive_bayes import MultinomialNB as MNB\n",
    "from sklearn.svm import LinearSVC\n",
    "from sklearn.metrics import (\n",
    "    confusion_matrix,\n",
    "    accuracy_score,\n",
    "    precision_score,\n",
    "    recall_score,\n",
    "    f1_score,\n",
    ")\n",
    "import pandas as pd\n",
    "from sklearn.feature_extraction.text import TfidfVectorizer\n",
    "from sklearn.preprocessing import LabelEncoder\n",
    "from datetime import datetime"
   ]
  },
  {
   "cell_type": "code",
   "execution_count": 2,
   "id": "0bb15bed",
   "metadata": {},
   "outputs": [],
   "source": [
    "dataset = pd.read_csv(\"./IMDB Dataset.csv\")\n",
    "X = dataset[\"review\"].values\n",
    "y = dataset[\"sentiment\"].values"
   ]
  },
  {
   "cell_type": "code",
   "execution_count": 3,
   "id": "96655f4f",
   "metadata": {},
   "outputs": [
    {
     "name": "stdout",
     "output_type": "stream",
     "text": [
      "[1 1 1 0 1]\n"
     ]
    }
   ],
   "source": [
    "label_encoder = LabelEncoder()\n",
    "y = label_encoder.fit_transform(y)\n",
    "print(y[:5])"
   ]
  },
  {
   "cell_type": "code",
   "execution_count": 4,
   "id": "cb6c9a96",
   "metadata": {},
   "outputs": [
    {
     "name": "stdout",
     "output_type": "stream",
     "text": [
      "X-train 40000\n",
      "X-test 10000\n"
     ]
    }
   ],
   "source": [
    "X_train, X_test, y_train, y_test = train_test_split(X, y, test_size=0.2)\n",
    "print(f\"X-train {len(X_train)}\")\n",
    "print(f\"X-test {len(X_test)}\")"
   ]
  },
  {
   "cell_type": "code",
   "execution_count": 5,
   "id": "27a69b1d",
   "metadata": {},
   "outputs": [],
   "source": [
    "vectorizer = TfidfVectorizer(stop_words=\"english\")\n",
    "X_train = vectorizer.fit_transform(X_train)\n",
    "X_test = vectorizer.transform(X_test)"
   ]
  },
  {
   "cell_type": "code",
   "execution_count": 6,
   "id": "00986e5b",
   "metadata": {},
   "outputs": [],
   "source": [
    "def eval_res(true, pred):\n",
    "    cm = confusion_matrix(true, pred)\n",
    "    print(cm)\n",
    "    print(f\"Accuracy = {accuracy_score(true, pred)}\")\n",
    "    print(f\"Precision = {precision_score(true, pred)}\")\n",
    "    print(f\"Recall = {recall_score(true, pred)}\")\n",
    "    print(f\"F1 = {f1_score(true, pred)}\")"
   ]
  },
  {
   "cell_type": "code",
   "execution_count": 7,
   "id": "990eb513",
   "metadata": {},
   "outputs": [
    {
     "name": "stdout",
     "output_type": "stream",
     "text": [
      "Total time = 0:00:00.019897\n",
      "[[4353  600]\n",
      " [ 793 4254]]\n",
      "Accuracy = 0.8607\n",
      "Precision = 0.8763906056860321\n",
      "Recall = 0.8428769566078859\n",
      "F1 = 0.8593071406928593\n"
     ]
    }
   ],
   "source": [
    "start = datetime.now()\n",
    "model = MNB()\n",
    "model.fit(X_train, y_train)\n",
    "pred = model.predict(X_test)\n",
    "print(f\"Total time = {datetime.now() - start}\")\n",
    "eval_res(y_test, pred)"
   ]
  },
  {
   "cell_type": "code",
   "execution_count": 8,
   "id": "b97ceac9",
   "metadata": {},
   "outputs": [
    {
     "name": "stdout",
     "output_type": "stream",
     "text": [
      "Total time = 0:00:00.364483\n",
      "[[4405  548]\n",
      " [ 509 4538]]\n",
      "Accuracy = 0.8943\n",
      "Precision = 0.892253244199764\n",
      "Recall = 0.8991480087180503\n",
      "F1 = 0.8956873581367808\n"
     ]
    }
   ],
   "source": [
    "start = datetime.now()\n",
    "model = LinearSVC()\n",
    "model.fit(X_train, y_train)\n",
    "pred = model.predict(X_test)\n",
    "print(f\"Total time = {datetime.now() - start}\")\n",
    "eval_res(y_test, pred)"
   ]
  }
 ],
 "metadata": {
  "kernelspec": {
   "display_name": "nlp",
   "language": "python",
   "name": "python3"
  },
  "language_info": {
   "codemirror_mode": {
    "name": "ipython",
    "version": 3
   },
   "file_extension": ".py",
   "mimetype": "text/x-python",
   "name": "python",
   "nbconvert_exporter": "python",
   "pygments_lexer": "ipython3",
   "version": "3.10.18"
  }
 },
 "nbformat": 4,
 "nbformat_minor": 5
}
