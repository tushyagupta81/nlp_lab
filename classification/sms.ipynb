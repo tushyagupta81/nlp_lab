{
 "cells": [
  {
   "cell_type": "code",
   "execution_count": 2,
   "id": "10fc00fd",
   "metadata": {},
   "outputs": [],
   "source": [
    "from sklearn.model_selection import train_test_split\n",
    "from sklearn.naive_bayes import MultinomialNB as MNB\n",
    "from sklearn.svm import LinearSVC\n",
    "from sklearn.metrics import (\n",
    "    confusion_matrix,\n",
    "    accuracy_score,\n",
    "    precision_score,\n",
    "    recall_score,\n",
    "    f1_score,\n",
    ")\n",
    "import pandas as pd\n",
    "from sklearn.feature_extraction.text import TfidfVectorizer\n",
    "from sklearn.preprocessing import LabelEncoder\n",
    "from datetime import datetime"
   ]
  },
  {
   "cell_type": "code",
   "execution_count": 6,
   "id": "0bb15bed",
   "metadata": {},
   "outputs": [],
   "source": [
    "dataset = pd.read_csv(\"./spam.csv\", encoding=\"latin1\")\n",
    "X = dataset[\"v2\"].values\n",
    "y = dataset[\"v1\"].values"
   ]
  },
  {
   "cell_type": "code",
   "execution_count": 7,
   "id": "96655f4f",
   "metadata": {},
   "outputs": [
    {
     "name": "stdout",
     "output_type": "stream",
     "text": [
      "[0 0 1 0 0]\n"
     ]
    }
   ],
   "source": [
    "label_encoder = LabelEncoder()\n",
    "y = label_encoder.fit_transform(y)\n",
    "print(y[:5])"
   ]
  },
  {
   "cell_type": "code",
   "execution_count": 8,
   "id": "cb6c9a96",
   "metadata": {},
   "outputs": [
    {
     "name": "stdout",
     "output_type": "stream",
     "text": [
      "X-train 4457\n",
      "X-test 1115\n"
     ]
    }
   ],
   "source": [
    "X_train, X_test, y_train, y_test = train_test_split(X, y, test_size=0.2)\n",
    "print(f\"X-train {len(X_train)}\")\n",
    "print(f\"X-test {len(X_test)}\")"
   ]
  },
  {
   "cell_type": "code",
   "execution_count": 9,
   "id": "27a69b1d",
   "metadata": {},
   "outputs": [],
   "source": [
    "vectorizer = TfidfVectorizer(stop_words=\"english\")\n",
    "X_train = vectorizer.fit_transform(X_train)\n",
    "X_test = vectorizer.transform(X_test)"
   ]
  },
  {
   "cell_type": "code",
   "execution_count": 10,
   "id": "00986e5b",
   "metadata": {},
   "outputs": [],
   "source": [
    "def eval_res(true, pred):\n",
    "    cm = confusion_matrix(true, pred)\n",
    "    print(cm)\n",
    "    print(f\"Accuracy = {accuracy_score(true, pred)}\")\n",
    "    print(f\"Precision = {precision_score(true, pred)}\")\n",
    "    print(f\"Recall = {recall_score(true, pred)}\")\n",
    "    print(f\"F1 = {f1_score(true, pred)}\")"
   ]
  },
  {
   "cell_type": "code",
   "execution_count": 11,
   "id": "990eb513",
   "metadata": {},
   "outputs": [
    {
     "name": "stdout",
     "output_type": "stream",
     "text": [
      "Total time = 0:00:00.005892\n",
      "[[972   0]\n",
      " [ 30 113]]\n",
      "Accuracy = 0.9730941704035875\n",
      "Precision = 1.0\n",
      "Recall = 0.7902097902097902\n",
      "F1 = 0.8828125\n"
     ]
    }
   ],
   "source": [
    "start = datetime.now()\n",
    "model = MNB()\n",
    "model.fit(X_train, y_train)\n",
    "pred = model.predict(X_test)\n",
    "print(f\"Total time = {datetime.now() - start}\")\n",
    "eval_res(y_test, pred)"
   ]
  },
  {
   "cell_type": "code",
   "execution_count": 12,
   "id": "b97ceac9",
   "metadata": {},
   "outputs": [
    {
     "name": "stdout",
     "output_type": "stream",
     "text": [
      "Total time = 0:00:00.021534\n",
      "[[968   4]\n",
      " [ 19 124]]\n",
      "Accuracy = 0.979372197309417\n",
      "Precision = 0.96875\n",
      "Recall = 0.8671328671328671\n",
      "F1 = 0.915129151291513\n"
     ]
    }
   ],
   "source": [
    "start = datetime.now()\n",
    "model = LinearSVC()\n",
    "model.fit(X_train, y_train)\n",
    "pred = model.predict(X_test)\n",
    "print(f\"Total time = {datetime.now() - start}\")\n",
    "eval_res(y_test, pred)"
   ]
  },
  {
   "cell_type": "code",
   "execution_count": null,
   "id": "7d82e7f1",
   "metadata": {},
   "outputs": [],
   "source": []
  }
 ],
 "metadata": {
  "kernelspec": {
   "display_name": "nlp",
   "language": "python",
   "name": "python3"
  },
  "language_info": {
   "codemirror_mode": {
    "name": "ipython",
    "version": 3
   },
   "file_extension": ".py",
   "mimetype": "text/x-python",
   "name": "python",
   "nbconvert_exporter": "python",
   "pygments_lexer": "ipython3",
   "version": "3.10.18"
  }
 },
 "nbformat": 4,
 "nbformat_minor": 5
}
